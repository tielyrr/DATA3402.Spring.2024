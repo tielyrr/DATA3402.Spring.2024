{
 "cells": [
  {
   "cell_type": "markdown",
   "metadata": {
    "id": "bhnh_16ybclK"
   },
   "source": [
    "# Lab 4- Object Oriented Programming\n",
    "\n",
    "For all of the exercises below, make sure you provide tests of your solutions.\n"
   ]
  },
  {
   "cell_type": "markdown",
   "metadata": {
    "id": "iScgakUebclM"
   },
   "source": [
    "1. Write a \"counter\" class that can be incremented up to a specified maximum value, will print an error if an attempt is made to increment beyond that value, and allows reseting the counter."
   ]
  },
  {
   "cell_type": "code",
   "execution_count": 1,
   "metadata": {
    "colab": {
     "base_uri": "https://localhost:8080/"
    },
    "id": "UMixzxxwbclN",
    "outputId": "4002b421-ccf4-4f00-e6c5-8afdcf0639c0"
   },
   "outputs": [
    {
     "data": {
      "text/plain": [
       "4"
      ]
     },
     "execution_count": 1,
     "metadata": {},
     "output_type": "execute_result"
    }
   ],
   "source": [
    "class counter:\n",
    "    count = 0\n",
    "    def __init__(self):\n",
    "        if counter.count >= 4:\n",
    "            print(\"Number of instances has been maxed out. Resetting counter...\")\n",
    "            counter.count = 0\n",
    "            return\n",
    "        counter.count +=1\n",
    "\n",
    "\n",
    "\n",
    "\n",
    "\n",
    "\n",
    "g = counter()\n",
    "f = counter()\n",
    "hc = counter()\n",
    "j = counter()\n",
    "counter.count\n"
   ]
  },
  {
   "cell_type": "code",
   "execution_count": 2,
   "metadata": {
    "colab": {
     "base_uri": "https://localhost:8080/"
    },
    "id": "tYDMJFW9bclO",
    "outputId": "8ae8583e-19df-473c-d17d-9aaf6741b579"
   },
   "outputs": [
    {
     "name": "stdout",
     "output_type": "stream",
     "text": [
      "Number of instances has been maxed out. Resetting counter...\n"
     ]
    },
    {
     "data": {
      "text/plain": [
       "1"
      ]
     },
     "execution_count": 2,
     "metadata": {},
     "output_type": "execute_result"
    }
   ],
   "source": [
    "k = counter()\n",
    "l = counter()\n",
    "counter.count"
   ]
  },
  {
   "cell_type": "markdown",
   "metadata": {
    "id": "dnqkIcoCbclO"
   },
   "source": [
    "2. Copy and paste your solution to question 1 and modify it so that all the data held by the counter is private. Implement functions to check the value of the counter, check the maximum value, and check if the counter is at the maximum."
   ]
  },
  {
   "cell_type": "code",
   "execution_count": 3,
   "metadata": {
    "colab": {
     "base_uri": "https://localhost:8080/"
    },
    "id": "zb389-JLbclO",
    "outputId": "83cc5120-ba78-4064-bbbe-a0133631b674"
   },
   "outputs": [
    {
     "name": "stdout",
     "output_type": "stream",
     "text": [
      "4 instance[s] remaining.\n",
      "No more instances remaining. Counter will reset with next istantiation.\n"
     ]
    }
   ],
   "source": [
    "class counter1:\n",
    "    __count = 0\n",
    "    def __init__(self):\n",
    "        if counter1.__count >= 4:\n",
    "            print(\"Number of instances has been maxed out. Resetting counter...\")\n",
    "            counter1.__count = 0\n",
    "            return\n",
    "        counter1.__count +=1\n",
    "    def check():\n",
    "        c = counter1.__count\n",
    "        if c <4:\n",
    "            x = 4-c\n",
    "            print(x, \"instance[s] remaining.\")\n",
    "        elif c == 4:\n",
    "            print(\"No more instances remaining. Counter will reset with next istantiation.\")\n",
    "\n",
    "b = counter1\n",
    "b.check()\n",
    "x1 = counter1()\n",
    "y1 = counter1()\n",
    "z = counter1()\n",
    "w = counter1()\n",
    "b.check()\n"
   ]
  },
  {
   "cell_type": "markdown",
   "metadata": {
    "id": "t3SiA0VHbclP"
   },
   "source": [
    "3. Implement a class to represent a rectangle, holding the length, width, and $x$ and $y$ coordinates of a corner of the object. Implement functions that compute the area and perimeter of the rectangle. Make all data members private and privide accessors to retrieve values of data members."
   ]
  },
  {
   "cell_type": "code",
   "execution_count": 6,
   "metadata": {
    "colab": {
     "base_uri": "https://localhost:8080/"
    },
    "id": "di7_x7yHbclP",
    "outputId": "0731e724-110d-42b5-8866-8e6eedf84d6d"
   },
   "outputs": [
    {
     "name": "stdout",
     "output_type": "stream",
     "text": [
      "Length: 5 \n",
      "Width: 3 \n",
      "X: 0 \n",
      "Y 0\n",
      "None\n",
      "Area = 15 Perimeter = 16\n"
     ]
    }
   ],
   "source": [
    "class rectangle:\n",
    "    def __init__(self,l,w,x,y):\n",
    "        self.__l = l\n",
    "        self.__w = w\n",
    "        self.__x = x\n",
    "        self.__y = y\n",
    "    def access(self):\n",
    "        return print(\"Length:\", self.__l, \"\\nWidth:\", self.__w , \"\\nX:\", self.__x, \"\\nY\", self.__y)\n",
    "    def area(self):\n",
    "        a = self.__l*self.__w\n",
    "        return f\"Area = {a}\"\n",
    "    def perimeter(self):\n",
    "        p = self.__l*2 + self.__w*2\n",
    "        return f\"Perimeter = {p}\"\n",
    "\n",
    "e = rectangle(5,3,0,0)\n",
    "print(e.access())\n",
    "print(e.area(),e.perimeter())"
   ]
  },
  {
   "cell_type": "markdown",
   "metadata": {
    "id": "C_nBGGS2bclP"
   },
   "source": [
    "4. Implement a class to represent a circle, holding the radius and $x$ and $y$ coordinates of center of the object. Implement functions that compute the area and perimeter of the rectangle. Make all data members private and privide accessors to retrieve values of data members."
   ]
  },
  {
   "cell_type": "code",
   "execution_count": 7,
   "metadata": {
    "colab": {
     "base_uri": "https://localhost:8080/"
    },
    "id": "E0KvXBixbclP",
    "outputId": "50f1ea21-5c5e-4248-9232-0ae4330b954e"
   },
   "outputs": [
    {
     "name": "stdout",
     "output_type": "stream",
     "text": [
      "Radius: 4 \n",
      "X: 0 \n",
      "Y 0\n",
      "None\n",
      "Area: 50.26548245743669 \n",
      "Circumference: 25.132741228718345\n"
     ]
    }
   ],
   "source": [
    "import math\n",
    "pi = math.pi\n",
    "\n",
    "class circle:\n",
    "    def __init__(self, radius, x, y):\n",
    "        self.self = self\n",
    "        self.__radius = radius\n",
    "        self.__x = x\n",
    "        self.__y = y\n",
    "    def access(self):\n",
    "        return print(\"Radius:\", self.__radius , \"\\nX:\", self.__x, \"\\nY\", self.__y)\n",
    "    def area(self):\n",
    "        r2 = (self.__radius)**2\n",
    "        a = pi*r2\n",
    "        return f\"Area: {a}\"\n",
    "\n",
    "    def circumference(self):\n",
    "        r = self.__radius\n",
    "        c = 2*(pi*r)\n",
    "        return f\"\\nCircumference: {c}\"\n",
    "\n",
    "o = circle(4, 0, 0)\n",
    "print(o.access())\n",
    "print(o.area(), o.circumference())"
   ]
  },
  {
   "cell_type": "markdown",
   "metadata": {
    "id": "ighIF0-4bclQ"
   },
   "source": [
    "5. Implement a common base class for the classes implemented in 3 and 4 above which implements all common methods as not implemented functions (virtual). Re-implement those classes to inherit from the base class and overload the functions accordingly."
   ]
  },
  {
   "cell_type": "code",
   "execution_count": 250,
   "metadata": {
    "colab": {
     "base_uri": "https://localhost:8080/"
    },
    "id": "4ZrNIgUpbclQ",
    "outputId": "4fee32de-59aa-499e-f24e-cd564040074e"
   },
   "outputs": [
    {
     "name": "stdout",
     "output_type": "stream",
     "text": [
      "Area: 19.634954084936208\n"
     ]
    },
    {
     "data": {
      "text/plain": [
       "15"
      ]
     },
     "execution_count": 250,
     "metadata": {},
     "output_type": "execute_result"
    }
   ],
   "source": [
    "\n",
    "class base:\n",
    "    def __init__ (self):\n",
    "        self.self = self\n",
    "    def access1(self):\n",
    "        raise\n",
    "    def area1(self):\n",
    "        raise\n",
    "\n",
    "class rectangle1(base):\n",
    "    def __init__(self, l,w,x,y):\n",
    "        super().__init__()\n",
    "        self.__l = l\n",
    "        self.__w = w\n",
    "        self.__x = x\n",
    "        self.__y = y\n",
    "    def view(self):\n",
    "        len = self.__l\n",
    "        wid = self.__w\n",
    "        x = self.__x\n",
    "        y = self.__y\n",
    "        return len, wid, x, y\n",
    "    def length(self):\n",
    "        len = self.__l\n",
    "        return len\n",
    "    def width(self):\n",
    "        wid = self.__w\n",
    "        return wid\n",
    "    def x_cord(self):\n",
    "        x = self.__x\n",
    "        return x\n",
    "    def y_cord(self):\n",
    "        y = self.__y\n",
    "        return y\n",
    "    def area1(self):\n",
    "        a = self.__l*self.__w\n",
    "        return f\"Area = {a}\"\n",
    "    def perimeter1(self):\n",
    "        p = self.__l*2 + self.__w*2\n",
    "        return f\"Perimeter = {p}\"\n",
    "\n",
    "class circle1(base):\n",
    "    def __init__(self, d, x, y):\n",
    "        super().__init__()\n",
    "        self.__x = x\n",
    "        self.__y = y\n",
    "        self.__d = d\n",
    "    def view(self):\n",
    "        return print(\"Diameter:\", self.__d , \"\\nX:\", self.__x, \"\\nY:\", self.__y)\n",
    "    def diameter(self):\n",
    "        d = self.__d\n",
    "        return d\n",
    "    def x_cord(self):\n",
    "        x = self.__x\n",
    "        return x\n",
    "    def y_cord(self):\n",
    "        y = self.__y\n",
    "        return y\n",
    "    def area1(self):\n",
    "        r = self.__d/2\n",
    "        r2 = r**2\n",
    "        a = pi*r2\n",
    "        return f\"Area: {a}\"\n",
    "    def circumference1(self):\n",
    "        r = self.__d/2\n",
    "        c = 2*(pi*r)\n",
    "        return f\"\\nCircumference: {c}\"\n",
    "\n",
    "\n",
    "\n",
    "crcl = circle1(5, 15, 4)\n",
    "print(crcl.area1())\n",
    "rctngl = rectangle1(10, 15, 10,1)\n",
    "rctngl.length()\n",
    "\n",
    "rctngl.width()\n"
   ]
  },
  {
   "cell_type": "markdown",
   "metadata": {
    "id": "Ll43KbPCbclQ"
   },
   "source": [
    "6. Implement an analogous triangle class."
   ]
  },
  {
   "cell_type": "code",
   "execution_count": 260,
   "metadata": {
    "colab": {
     "base_uri": "https://localhost:8080/",
     "height": 36
    },
    "id": "j-YC8u_bbclQ",
    "outputId": "fcff31b5-590d-41b5-a2c5-e4f2009e21f7"
   },
   "outputs": [
    {
     "data": {
      "text/plain": [
       "'Perimeter: 31'"
      ]
     },
     "execution_count": 260,
     "metadata": {},
     "output_type": "execute_result"
    }
   ],
   "source": [
    "import math\n",
    "\n",
    "class triangle1(base): #isosceles\n",
    "    def __init__(self, b, x, y):\n",
    "        super().__init__()\n",
    "        self.__b = b\n",
    "        self.__x = x\n",
    "        self.__y = y\n",
    "    def view(self):\n",
    "        return print(\"Base:\", self.__b , \"\\nX:\", self.__x, \"\\nY:\", self.__y)\n",
    "    def base(self):\n",
    "        base = self.__b -2\n",
    "        return base\n",
    "    def height(self):\n",
    "        s = round(self.__b/2)\n",
    "        height = round(math.sqrt((s**2-(self.__b**2/4))))\n",
    "        return height\n",
    "    def x_cord(self):\n",
    "        x = self.__x\n",
    "        return x\n",
    "    def y_cord(self):\n",
    "        y = self.__y\n",
    "        return y\n",
    "    def perimeter1(self):\n",
    "        s = round(self.__b/2)\n",
    "        p = self.__b + s + s\n",
    "        return f\"Perimeter: {p}\"\n",
    "    def area1(self):\n",
    "        s = round(self.__b/2)\n",
    "        b = self.__b\n",
    "        sp = (self.__b + s +s) /2  #semiperimeter\n",
    "        a = math.sqrt(sp*(sp-b)*(sp - s)*(sp - s))\n",
    "        return f\"Area: {a}\"\n",
    "\n",
    "trngl = triangle1(15, 10, 2)\n",
    "trngl.perimeter1()\n"
   ]
  },
  {
   "cell_type": "markdown",
   "metadata": {
    "id": "k5GU6unVbclQ"
   },
   "source": [
    "7. Add a function to the object classes that tests if a given set of $x$ and $y$ coordinates are inside of the object."
   ]
  },
  {
   "cell_type": "code",
   "execution_count": 44,
   "metadata": {
    "colab": {
     "base_uri": "https://localhost:8080/",
     "height": 36
    },
    "id": "MX80Em6RbclQ",
    "outputId": "0e5011cd-b507-40a0-faf7-c30d367f2993"
   },
   "outputs": [
    {
     "data": {
      "text/plain": [
       "'inside'"
      ]
     },
     "execution_count": 44,
     "metadata": {},
     "output_type": "execute_result"
    }
   ],
   "source": [
    "def classMethod(func):\n",
    "    setattr(base, func.__name__, func)\n",
    "    return func\n",
    "\n",
    "\n",
    "@classMethod\n",
    "def inside(self, new_x, new_y, shape):\n",
    "    if isinstance(shape, rectangle1):\n",
    "        x = shape.x_cord()\n",
    "        y = shape.y_cord()\n",
    "        k = shape.x_cord() + shape.width()\n",
    "        j = shape.y_cord() + shape.length()\n",
    "        if new_x >= x and new_x <= k and new_y >= y and new_y <= j:\n",
    "            return f\"inside\"\n",
    "        else:\n",
    "            return f\"outside\"\n",
    "    elif isinstance(shape, circle1):  #need to subtract corners\n",
    "        x = shape.x_cord()\n",
    "        y = shape.y_cord()\n",
    "        r = shape.diameter()\n",
    "        k = shape.x_cord() + (shape.diameter()/2)\n",
    "        j = shape.y_cord() + (shape.diameter()/2)\n",
    "        if new_x >= x and new_x <= k and new_y >= y and new_y <= j:\n",
    "            return f\"inside\"\n",
    "        else:\n",
    "            return f\"outside\"\n",
    "    elif isinstance(shape, triangle1): #need to subtract sides\n",
    "        x = shape.x_cord()\n",
    "        y = shape.y_cord()\n",
    "        h = shape.height()\n",
    "        b = shape.base()\n",
    "        if new_x <= x and new_x >= x - h and new_y >= y and new_y <= y + b:\n",
    "            return f\"inside\"\n",
    "        else:\n",
    "            return f\"outside\"\n",
    "\n",
    "\n",
    "#inside(5, 5, rctngl)\n",
    "#inside(11,22, crcl)\n",
    "#inside(4,11,trngl)\n",
    "\n",
    "#these are just boxes around the shapes...\n",
    "\n",
    "xg = base()\n",
    "xg.inside(4,5,rctngl)"
   ]
  },
  {
   "cell_type": "markdown",
   "metadata": {
    "id": "8SyHXY93bclR"
   },
   "source": [
    "8. Add a function to the object classes that return a list of up to 16 pairs of  $x$ and $y$ points on the parameter of the object.\n",
    "\n"
   ]
  },
  {
   "cell_type": "code",
   "execution_count": 52,
   "metadata": {
    "id": "hVC9hxmibclR"
   },
   "outputs": [
    {
     "data": {
      "text/plain": [
       "{(3, 10),\n",
       " (3, 12),\n",
       " (3, 13),\n",
       " (3, 14),\n",
       " (4, 10),\n",
       " (4, 11),\n",
       " (4, 12),\n",
       " (4, 14),\n",
       " (4, 15),\n",
       " (5, 12),\n",
       " (5, 14)}"
      ]
     },
     "execution_count": 52,
     "metadata": {},
     "output_type": "execute_result"
    }
   ],
   "source": [
    "#because I just put boxes around the shapes, the points may be outside the actual shape. \n",
    "\n",
    "import random\n",
    "@classMethod\n",
    "def pairs(self, shape):\n",
    "    pairs = []\n",
    "    n = 16\n",
    "    while n >= 0:\n",
    "        x = random.randrange(0,30) #canvas size\n",
    "        y = random.randrange(0,30)\n",
    "        p = (x,y)\n",
    "        answer = self.inside(x,y,shape)\n",
    "        if answer == \"inside\":\n",
    "            pairs.append(p)\n",
    "            n = n-1\n",
    "        else:\n",
    "            continue\n",
    "            n = n-1  \n",
    "    return set(pairs) #no duplicates\n",
    "#pairs(trngl)\n",
    "testxg = base()\n",
    "testxg.pairs(trngl)"
   ]
  },
  {
   "cell_type": "markdown",
   "metadata": {
    "id": "T9cM_EIRbclR"
   },
   "source": [
    "9. Add a function in the base class of the object classes that returns true/false testing that the object overlaps with another object."
   ]
  },
  {
   "cell_type": "code",
   "execution_count": 56,
   "metadata": {
    "id": "IuHLl0e8bclR"
   },
   "outputs": [
    {
     "data": {
      "text/plain": [
       "False"
      ]
     },
     "execution_count": 56,
     "metadata": {},
     "output_type": "execute_result"
    }
   ],
   "source": [
    "@classMethod\n",
    "def overlap(self, shape1, shape2):\n",
    "    s1 = self.pairs(shape1)\n",
    "    s2 = self.pairs(shape2)\n",
    "    for i in s1:\n",
    "        if i in s2:\n",
    "            return True\n",
    "        else:\n",
    "            return False\n",
    "#overlap(rctngl, crcl)\n",
    "testxgg = base()\n",
    "testxgg.overlap(crcl, rctngl)\n",
    "#still could be wrong if the area is less than 16... id adjust this to the area instead of a static 16 if it were me"
   ]
  },
  {
   "cell_type": "markdown",
   "metadata": {
    "id": "nbtkhcGbbclR"
   },
   "source": [
    "10. Copy the `Canvas` class from lecture to in a python file creating a `paint` module. Copy your classes from above into the module and implement paint functions. Implement a `CompoundShape` class. Create a simple drawing demonstrating that all of your classes are working."
   ]
  },
  {
   "cell_type": "code",
   "execution_count": 261,
   "metadata": {
    "colab": {
     "base_uri": "https://localhost:8080/"
    },
    "id": "XsD72ZRZbclR",
    "outputId": "6fbd0166-e155-4401-bf86-62d562221f90"
   },
   "outputs": [
    {
     "name": "stdout",
     "output_type": "stream",
     "text": [
      "                              \n",
      "                              \n",
      "                              \n",
      "        *                     \n",
      "       * *                    \n",
      "      *   *                   \n",
      "     *     *                  \n",
      "    *       *                 \n",
      "   *         *                \n",
      "  *           *               \n",
      " *****************            \n",
      " *               *            \n",
      " *               *            \n",
      " *               *            \n",
      " *               *            \n",
      " *  *****        *            \n",
      " *  *   *        *            \n",
      " *  *   *        *            \n",
      " *  *   *        *            \n",
      " ** ***** * * * **            \n",
      "                              \n",
      "                              \n",
      "                              \n",
      "                              \n",
      "                              \n",
      "                              \n",
      "                              \n",
      "                              \n",
      "                              \n",
      "                              \n"
     ]
    }
   ],
   "source": [
    "class Canvas:\n",
    "    def __init__(self, width, height):\n",
    "        self.width = width\n",
    "        self.height = height\n",
    "        self.data = [[' '] * width for i in range(height)]\n",
    "\n",
    "    def set_pixel(self, row, col, char='*'):\n",
    "        self.data[row][col] = char\n",
    "\n",
    "    def get_pixel(self, row, col):\n",
    "        return self.data[row][col]\n",
    "\n",
    "    def clear_canvas(self):\n",
    "        self.data = [[' '] * self.width for i in range(self.height)]\n",
    "\n",
    "    def v_line(self, x, y,w, **kargs):\n",
    "        for i in range(x, x+w):\n",
    "            self.set_pixel(i,y, **kargs)\n",
    "\n",
    "    def h_line(self, x, y,h, **kargs):\n",
    "        for i in range(y, y+h):\n",
    "            self.set_pixel(x,i, **kargs)\n",
    "\n",
    "    def for_circle(self, x, y, n, **kargs):\n",
    "        for i in range(y, y+n):\n",
    "            self.set_pixel(x,i, **kargs)\n",
    "    def for_tri(self, x, y, r, **kargs):\n",
    "        for i in range(y, y+r):\n",
    "            self.set_pixel(x, i, **kargs)\n",
    "\n",
    "    def line(self, x1, y1, x2, y2, **kargs):\n",
    "        slope = (y2-y1) / (x2-x1)\n",
    "        for y in range(y1,y2):\n",
    "            x= int(slope * y)\n",
    "            self.set_pixel(x,y, **kargs)\n",
    "\n",
    "    def display(self):\n",
    "        print(\"\\n\".join([\"\".join(row) for row in self.data]))\n",
    "\n",
    "\n",
    "\n",
    "my_canvas = Canvas(30,30)\n",
    "\n",
    "def rctngl1(shape): #5l 4w 00\n",
    "  x = shape.x_cord()\n",
    "  y = shape.y_cord()\n",
    "  l = shape.length()\n",
    "  w = shape.width()\n",
    "  xl = x + l\n",
    "  while x < xl:\n",
    "    my_canvas.v_line(x,y,1,char='*')\n",
    "    x = x+1\n",
    "  x = x -1\n",
    "  yw = y+w\n",
    "  while y < yw:\n",
    "    y = y+1\n",
    "    my_canvas.h_line(x,y,1,char='*')\n",
    "    y = y +1\n",
    "  x_l = x-l\n",
    "  while x > x_l:\n",
    "    my_canvas.h_line(x,y,1,char='*')\n",
    "    x = x -1\n",
    "  x = shape.x_cord()\n",
    "  y_w = y - w\n",
    "  while y > y_w:\n",
    "    y = y-1\n",
    "    my_canvas.h_line(x,y,1,char='*')\n",
    "    y = y -1\n",
    "\n",
    "  return my_canvas.data\n",
    "\n",
    "def trngl1(trngl):\n",
    "    base = trngl.base()\n",
    "    x = trngl.x_cord()\n",
    "    y = trngl.y_cord()#base\n",
    "    yb = y + base\n",
    "    while y < yb:\n",
    "        my_canvas.for_tri(x, y, 1, char=\"*\")\n",
    "        y = y+1\n",
    "    j = yb - (base/2)\n",
    "    my_canvas.for_tri(x, yb, 1, char=\"*\")\n",
    "    while y >= j:\n",
    "        my_canvas.for_tri(x-1, y-1, 1, char=\"*\")\n",
    "        y = y-1\n",
    "        x = x-1\n",
    "    g = trngl.y_cord()\n",
    "    while y >= g:\n",
    "        my_canvas.for_tri(x+1, y-1, 1, char=\"*\")\n",
    "        y = y-1\n",
    "        x = x+1\n",
    "    return my_canvas.data\n",
    "\n",
    "\n",
    "\n",
    "def crcl1(crcl):\n",
    "    d = crcl.diameter()\n",
    "    x = crcl.x_cord()\n",
    "    y = crcl.y_cord()\n",
    "    xd = x+d\n",
    "    while x < xd:\n",
    "        my_canvas.v_line(x,y,1,char='*')\n",
    "        x = x+1\n",
    "    x = x -1\n",
    "    yd = y+d\n",
    "    while y <yd - 1:\n",
    "        my_canvas.h_line(x,y,1,char='*')\n",
    "        y = y +1\n",
    "    x_d = x-d\n",
    "    while x > x_d:\n",
    "        my_canvas.h_line(x,y,1,char='*')\n",
    "        x = x -1\n",
    "    x = crcl.x_cord()\n",
    "    y_w = y - d\n",
    "    while y > y_w+1:\n",
    "        my_canvas.h_line(x,y,1,char='*')\n",
    "        y = y -1\n",
    "    #######^this code works^##########\n",
    "    return my_canvas.data\n",
    "        \n",
    "\n",
    "\n",
    "\n",
    "class compound_shape:\n",
    "    def __init__(self,canvas):\n",
    "        self.self = self\n",
    "        self.canvas = canvas\n",
    "    def implement(self):\n",
    "        return my_canvas.display()\n",
    "\n",
    "c = crcl1(crcl)\n",
    "r = rctngl1(rctngl)\n",
    "t = trngl1(trngl)\n",
    "pict = compound_shape(my_canvas)\n",
    "pict.implement()"
   ]
  },
  {
   "cell_type": "markdown",
   "metadata": {
    "id": "81kSnf6lbclR"
   },
   "source": [
    "11. Create a `RasterDrawing` class. Demonstrate that you can create a drawing made of several shapes, paint the drawing, modify the drawing, and paint it again."
   ]
  },
  {
   "cell_type": "code",
   "execution_count": 65,
   "metadata": {
    "id": "QbGk4e5rbclR"
   },
   "outputs": [],
   "source": [
    "def save_(code_str: str, filename: str):\n",
    "    pyfile =open(filename,'w')\n",
    "    pyfile.write(code_str)\n",
    "    pyfile.close()\n",
    "\n",
    "code = \"\"\"class RasterDrawing:\n",
    "    def __init__(self,rctngl, trngl, crcl, canv):\n",
    "        self.self = self\n",
    "        self.rctngl = rctngl\n",
    "        self.trngl = trngl\n",
    "        self.crcl = crcl\n",
    "        self.canv = canv\n",
    "    def rctngl1(self): \n",
    "        print(rctngl.x_cord()) #no issue accessing the values\n",
    "        x = rctngl.x_cord()\n",
    "        y = rctngl.y_cord()\n",
    "        l = rctngl.length()\n",
    "        w = rctngl.width()\n",
    "        xl = x + l\n",
    "        while x < xl:\n",
    "            canv.v_line(x,y,1,char='*')\n",
    "            x = x+1\n",
    "            x = x -1\n",
    "            yw = y+w\n",
    "        while y < yw:\n",
    "            y = y+1\n",
    "            canv.h_line(x,y,1,char='*')\n",
    "            y = y +1\n",
    "            x_l = x-l\n",
    "        while x > x_l:\n",
    "            canv.h_line(x,y,1,char='*')\n",
    "            x = x -1\n",
    "            x = shape.x_cord()\n",
    "            y_w = y - w\n",
    "        while y > y_w:\n",
    "            y = y-1\n",
    "            canv.h_line(x,y,1,char='*')\n",
    "            y = y -1\n",
    "        return canv.data\n",
    "        \n",
    "    def trngl1(self):\n",
    "        base = trngl.base()\n",
    "        x = trngl.x_cord()\n",
    "        y = trngl.y_cord()#base\n",
    "        yb = y + base\n",
    "        while y < yb:\n",
    "            canv.for_tri(x, y, 1, char='*')\n",
    "            y = y+1\n",
    "            j = yb - (base/2)\n",
    "        canv.for_tri(x, yb, 1, char='*')\n",
    "        while y >= j:\n",
    "            canv.for_tri(x-1, y-1, 1, char='*')\n",
    "            y = y-1\n",
    "            x = x-1\n",
    "        g = trngl.y_cord()\n",
    "        while y >= g:\n",
    "            canv.for_tri(x+1, y-1, 1, char='*')\n",
    "            y = y-1\n",
    "            x = x+1\n",
    "        return canv.display()\n",
    "        \n",
    "    def crcl1(self):\n",
    "        d = crcl.diameter()\n",
    "        x = crcl.x_cord()\n",
    "        y = crcl.y_cord()\n",
    "        xd = x+d\n",
    "        while x < xd:\n",
    "            canv.v_line(x,y,1,char='*')\n",
    "            x = x+1\n",
    "            x = x -1\n",
    "            yd = y+d\n",
    "        while y <yd - 1:\n",
    "            canv.h_line(x,y,1,char='*')\n",
    "            y = y +1\n",
    "            x_d = x-d\n",
    "        while x > x_d:\n",
    "            canv.h_line(x,y,1,char='*')\n",
    "            x = x -1\n",
    "            x = crcl.x_cord()\n",
    "            y_w = y - d\n",
    "        while y > y_w+1:\n",
    "            canv.h_line(x,y,1,char='*')\n",
    "            y = y -1\n",
    "                #######^this code works^##########\n",
    "        return canv.data\n",
    "    def go(self):\n",
    "        return canv.display()\n",
    "    def erase(self):\n",
    "        return canv.clear_canvas()\n",
    "\n",
    "class rectangle2(RasterDrawing):\n",
    "    def __init__(self, l,w,x,y):\n",
    "        self.__l = l\n",
    "        self.__w = w\n",
    "        self.__x = x\n",
    "        self.__y = y\n",
    "    def length(self):\n",
    "        len = self.__l\n",
    "        return len\n",
    "    def width(self):\n",
    "        wid = self.__w\n",
    "        return wid\n",
    "    def x_cord(self):\n",
    "        x = self.__x\n",
    "        return x\n",
    "    def y_cord(self):\n",
    "        y = self.__y\n",
    "        return y\n",
    "\n",
    "\n",
    "class circle2(RasterDrawing):\n",
    "    def __init__(self, d, x, y):\n",
    "        self.__x = x\n",
    "        self.__y = y\n",
    "        self.__d = d\n",
    "    def diameter(self):\n",
    "        d = self.__d\n",
    "        return d\n",
    "    def x_cord(self):\n",
    "        x = self.__x\n",
    "        return x\n",
    "    def y_cord(self):\n",
    "        y = self.__y\n",
    "        return y\n",
    "\n",
    "\n",
    "class triangle2(RasterDrawing): #isosceles\n",
    "    def __init__(self, b, x, y):\n",
    "        self.__b = b\n",
    "        self.__x = x\n",
    "        self.__y = y\n",
    "    def base(self):\n",
    "        base = self.__b -2\n",
    "        return base\n",
    "    def height(self):\n",
    "        s = round(b/2)\n",
    "        height = round(math.sqrt((self.__s**2-(self.__b**2/4))))\n",
    "        return height\n",
    "    def x_cord(self):\n",
    "        x = self.__x\n",
    "        return x\n",
    "    def y_cord(self):\n",
    "        y = self.__y\n",
    "        return y\n",
    "\n",
    "\n",
    "class Canvas1:\n",
    "    def __init__(self, width, height):\n",
    "        self.width = width\n",
    "        self.height = height\n",
    "        self.data = [[' '] * width for i in range(height)]\n",
    "\n",
    "    def set_pixel(self, row, col, char='*'):\n",
    "        self.data[row][col] = char\n",
    "\n",
    "    def get_pixel(self, row, col):\n",
    "        return self.data[row][col]\n",
    "\n",
    "    def clear_canvas(self):\n",
    "        self.data = [[' '] * self.width for i in range(self.height)]\n",
    "\n",
    "    def v_line(self, x, y,w, **kargs):\n",
    "        for i in range(x, x+w):\n",
    "            self.set_pixel(i,y, **kargs)\n",
    "\n",
    "    def h_line(self, x, y,h, **kargs):\n",
    "        for i in range(y, y+h):\n",
    "            self.set_pixel(x,i, **kargs)\n",
    "\n",
    "    def for_circle(self, x, y, n, **kargs):\n",
    "        for i in range(y, y+n):\n",
    "            self.set_pixel(x,i, **kargs)\n",
    "    def for_tri(self, x, y, r, **kargs):\n",
    "        for i in range(y, y+r):\n",
    "            self.set_pixel(x, i, **kargs)\n",
    "\n",
    "    def line(self, x1, y1, x2, y2, **kargs):\n",
    "        slope = (y2-y1) / (x2-x1)\n",
    "        for y in range(y1,y2):\n",
    "            x= int(slope * y)\n",
    "            self.set_pixel(x,y, **kargs)\n",
    "\n",
    "    def display(self):\n",
    "        print(\"\\n\".join([''.join(row) for row in self.data]))   ##########THIS NEWLINE WONT READ BACK IM SORRY I TRIED\n",
    "\n",
    "        \n",
    "\n",
    "\n",
    "\n",
    "\n",
    "\n",
    "rctngl  = rectangle2(20, 10, 6, 5)\n",
    "trngl = triangle2(5, 8, 8)\n",
    "crcl = circle2(7, 10, 5)\n",
    "canv = Canvas1(30,30)\n",
    "\n",
    "picture = RasterDrawing(rctngl,trngl,crcl,canv)\n",
    "picture.trngl1()   #only the triangle works.... the other two get stuck at setting pixels. !!!!!!!!!!!!!!!!!!!!!!!!!!!!!!!!! \n",
    "picture.go()\n",
    "\n",
    "trngl = triangle2(15, 15, 15)\n",
    "picture = RasterDrawing(rctngl,trngl,crcl,canv)\n",
    "picture.trngl1()\n",
    "picture.go()\n",
    "picture.erase()\n",
    "\n",
    "trngl = triangle2(9, 9, 9)\n",
    "picture = RasterDrawing(rctngl,trngl,crcl,canv)\n",
    "picture.trngl1()\n",
    "picture.go()\"\"\"\n",
    "save_(code, 'pyfile1.py')"
   ]
  },
  {
   "cell_type": "code",
   "execution_count": 66,
   "metadata": {},
   "outputs": [
    {
     "ename": "SyntaxError",
     "evalue": "unterminated string literal (detected at line 179) (pyfile1.py, line 179)",
     "output_type": "error",
     "traceback": [
      "\u001b[0;36m  File \u001b[0;32m~/Python2/pyfile1.py:179\u001b[0;36m\u001b[0m\n\u001b[0;31m    print(\"\u001b[0m\n\u001b[0m          ^\u001b[0m\n\u001b[0;31mSyntaxError\u001b[0m\u001b[0;31m:\u001b[0m unterminated string literal (detected at line 179)\n"
     ]
    }
   ],
   "source": [
    "def loader(filename):\n",
    "    f=open(filename,\"r\")\n",
    "    tmp=eval(f.read())\n",
    "    f.close()\n",
    "    return tmp\n",
    "\n",
    "#ll = loader(\"pyfile1.py\")\n",
    "%run \"pyfile1.py\""
   ]
  },
  {
   "cell_type": "code",
   "execution_count": null,
   "metadata": {},
   "outputs": [],
   "source": []
  },
  {
   "cell_type": "code",
   "execution_count": null,
   "metadata": {},
   "outputs": [],
   "source": []
  },
  {
   "cell_type": "markdown",
   "metadata": {
    "id": "lG_dgQsmbclR"
   },
   "source": [
    "12. Implement the ability to load/save raster drawings and demonstate that your method works. One way to implement this ability:\n",
    "\n",
    "   * Overload `__repr__` functions of all objects to return strings of the python code that would construct the object.\n",
    "   \n",
    "   * In the save method of raster drawing class, store the representations into the file.\n",
    "   * Write a loader function that reads the file and uses `eval` to instantiate the object.\n",
    "\n",
    "For example:"
   ]
  },
  {
   "cell_type": "code",
   "execution_count": 270,
   "metadata": {
    "id": "EhcFJDhqbclR"
   },
   "outputs": [],
   "source": [
    "class foo:\n",
    "    def __init__(self,a,b=None):\n",
    "        self.a=a\n",
    "        self.b=b\n",
    "\n",
    "    def __repr__(self):\n",
    "        return \"foo(\"+repr(self.a)+\",\"+repr(self.b)+\")\"\n",
    "\n",
    "    def save(self,filename):\n",
    "        f=open(filename,\"w\")\n",
    "        f.write(self.__repr__())\n",
    "        f.close()\n",
    "\n",
    "\n",
    "def foo_loader(filename):\n",
    "    f=open(filename,\"r\")\n",
    "    tmp=eval(f.read())\n",
    "    f.close()\n",
    "    return tmp\n"
   ]
  },
  {
   "cell_type": "code",
   "execution_count": 271,
   "metadata": {
    "id": "exeCH4KZbclS",
    "outputId": "070be4d1-524a-4dd6-aa33-bf1fe8656550"
   },
   "outputs": [
    {
     "name": "stdout",
     "output_type": "stream",
     "text": [
      "foo(1,'hello')\n"
     ]
    }
   ],
   "source": [
    "# Test\n",
    "print(repr(foo(1,\"hello\")))"
   ]
  },
  {
   "cell_type": "code",
   "execution_count": null,
   "metadata": {
    "id": "X07aXI-DbclS"
   },
   "outputs": [],
   "source": [
    "# Create an object and save it\n",
    "ff=foo(1,\"hello\")\n",
    "ff.save(\"Test.foo\")"
   ]
  },
  {
   "cell_type": "code",
   "execution_count": null,
   "metadata": {
    "id": "CPWrmNsobclS",
    "outputId": "b3c56996-5deb-4783-e475-f39f19fe4a8d"
   },
   "outputs": [
    {
     "name": "stdout",
     "output_type": "stream",
     "text": [
      "foo(1,'hello')"
     ]
    }
   ],
   "source": [
    "# Check contents of the saved file\n",
    "!cat Test.foo"
   ]
  },
  {
   "cell_type": "code",
   "execution_count": null,
   "metadata": {
    "id": "ekKMuezsbclS",
    "outputId": "57159d6e-bcfd-4819-cb34-ffbf94fde7b9"
   },
   "outputs": [
    {
     "data": {
      "text/plain": [
       "foo(1,'hello')"
      ]
     },
     "execution_count": 5,
     "metadata": {},
     "output_type": "execute_result"
    }
   ],
   "source": [
    "# Load the object\n",
    "ff_reloaded=foo_loader(\"Test.foo\")\n",
    "ff_reloaded"
   ]
  },
  {
   "cell_type": "code",
   "execution_count": 262,
   "metadata": {
    "id": "xpzcUo_pbclS"
   },
   "outputs": [],
   "source": []
  },
  {
   "cell_type": "code",
   "execution_count": null,
   "metadata": {
    "id": "GgxToa6kbclS"
   },
   "outputs": [],
   "source": []
  }
 ],
 "metadata": {
  "colab": {
   "provenance": []
  },
  "kernelspec": {
   "display_name": "Python 3 (ipykernel)",
   "language": "python",
   "name": "python3"
  },
  "language_info": {
   "codemirror_mode": {
    "name": "ipython",
    "version": 3
   },
   "file_extension": ".py",
   "mimetype": "text/x-python",
   "name": "python",
   "nbconvert_exporter": "python",
   "pygments_lexer": "ipython3",
   "version": "3.10.12"
  }
 },
 "nbformat": 4,
 "nbformat_minor": 4
}
