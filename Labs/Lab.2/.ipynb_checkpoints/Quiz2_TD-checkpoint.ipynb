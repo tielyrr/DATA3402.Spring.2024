{
 "cells": [
  {
   "cell_type": "markdown",
   "id": "0e3cc4a0-c576-4ef6-9e56-3115d9d73c4a",
   "metadata": {},
   "source": [
    "Write a function make_deck that returns a list of all of the cards in a standard card deck. The return should be a list of tuples of pairs of suit and value. For example the 10 of Clubs would be ('Clubs', 10) and Queen of Hearts would be ('Hearts', 'Queen'). Recall that a deck has 52 cards, divided into 4 suits (Clubs, Diamonds, Hearts, and Spades), and that each suit has 13 cards: 2 to 10, Jack, Queen, King, and Ace. Summit your solution with Lab 2."
   ]
  },
  {
   "cell_type": "code",
   "execution_count": 38,
   "id": "ecc81dab-eff2-4d9e-b257-a5717f66704e",
   "metadata": {},
   "outputs": [
    {
     "data": {
      "text/plain": [
       "[('Clubs', 2),\n",
       " ('Diamonds', 2),\n",
       " ('Hearts', 2),\n",
       " ('Spades', 2),\n",
       " ('Clubs', 3),\n",
       " ('Diamonds', 3),\n",
       " ('Hearts', 3),\n",
       " ('Spades', 3),\n",
       " ('Clubs', 4),\n",
       " ('Diamonds', 4),\n",
       " ('Hearts', 4),\n",
       " ('Spades', 4),\n",
       " ('Clubs', 5),\n",
       " ('Diamonds', 5),\n",
       " ('Hearts', 5),\n",
       " ('Spades', 5),\n",
       " ('Clubs', 6),\n",
       " ('Diamonds', 6),\n",
       " ('Hearts', 6),\n",
       " ('Spades', 6),\n",
       " ('Clubs', 7),\n",
       " ('Diamonds', 7),\n",
       " ('Hearts', 7),\n",
       " ('Spades', 7),\n",
       " ('Clubs', 8),\n",
       " ('Diamonds', 8),\n",
       " ('Hearts', 8),\n",
       " ('Spades', 8),\n",
       " ('Clubs', 9),\n",
       " ('Diamonds', 9),\n",
       " ('Hearts', 9),\n",
       " ('Spades', 9),\n",
       " ('Clubs', 10),\n",
       " ('Diamonds', 10),\n",
       " ('Hearts', 10),\n",
       " ('Spades', 10),\n",
       " ('Clubs', 'Jack'),\n",
       " ('Diamonds', 'Jack'),\n",
       " ('Hearts', 'Jack'),\n",
       " ('Spades', 'Jack'),\n",
       " ('Clubs', 'Queen'),\n",
       " ('Diamonds', 'Queen'),\n",
       " ('Hearts', 'Queen'),\n",
       " ('Spades', 'Queen'),\n",
       " ('Clubs', 'King'),\n",
       " ('Diamonds', 'King'),\n",
       " ('Hearts', 'King'),\n",
       " ('Spades', 'King'),\n",
       " ('Clubs', 'Ace'),\n",
       " ('Diamonds', 'Ace'),\n",
       " ('Hearts', 'Ace'),\n",
       " ('Spades', 'Ace')]"
      ]
     },
     "execution_count": 38,
     "metadata": {},
     "output_type": "execute_result"
    }
   ],
   "source": [
    "def make_deck():\n",
    "    deck = []\n",
    "    ppl = [\"Jack\", \"Queen\", \"King\", \"Ace\"]\n",
    "    suits = [\"Clubs\", \"Diamonds\", \"Hearts\", \"Spades\"]\n",
    "    for i in range(2,11):\n",
    "        for j in suits:\n",
    "            deck.append((j, i))\n",
    "    for i in ppl:\n",
    "        for j in suits:\n",
    "            deck.append((j, i))\n",
    "          \n",
    "    return deck\n",
    "\n",
    "\n",
    "\n",
    "a = make_deck()\n",
    "a\n"
   ]
  }
 ],
 "metadata": {
  "kernelspec": {
   "display_name": "Python 3 (ipykernel)",
   "language": "python",
   "name": "python3"
  },
  "language_info": {
   "codemirror_mode": {
    "name": "ipython",
    "version": 3
   },
   "file_extension": ".py",
   "mimetype": "text/x-python",
   "name": "python",
   "nbconvert_exporter": "python",
   "pygments_lexer": "ipython3",
   "version": "3.10.12"
  }
 },
 "nbformat": 4,
 "nbformat_minor": 5
}
